{
  "nbformat": 4,
  "nbformat_minor": 0,
  "metadata": {
    "colab": {
      "name": "Assignment - 012/01 .ipynb",
      "provenance": [],
      "collapsed_sections": [],
      "authorship_tag": "ABX9TyPFZ1zpF9ciYR6mOPjLaCRj",
      "include_colab_link": true
    },
    "kernelspec": {
      "name": "python3",
      "display_name": "Python 3"
    },
    "language_info": {
      "name": "python"
    }
  },
  "cells": [
    {
      "cell_type": "markdown",
      "metadata": {
        "id": "view-in-github",
        "colab_type": "text"
      },
      "source": [
        "<a href=\"https://colab.research.google.com/github/usuladams/colab/blob/main/Assignment_012_01_.ipynb\" target=\"_parent\"><img src=\"https://colab.research.google.com/assets/colab-badge.svg\" alt=\"Open In Colab\"/></a>"
      ]
    },
    {
      "cell_type": "code",
      "execution_count": null,
      "metadata": {
        "colab": {
          "base_uri": "https://localhost:8080/"
        },
        "id": "LIOHpXcF5gkI",
        "outputId": "2bc2613d-78cf-42be-8db6-f77c4da19676"
      },
      "outputs": [
        {
          "output_type": "stream",
          "name": "stdout",
          "text": [
            "isminizi giriniz: Joseph\n",
            "Hello Joseph ! The password is : W@12\n"
          ]
        }
      ],
      "source": [
        "name = 'Joseph'\n",
        "\n",
        "passwrd = 'W@12'\n",
        "\n",
        "name_giris=input('isminizi giriniz: ')\n",
        "\n",
        "if name_giris==name:\n",
        "  print('Hello', name,'!','The password is :',passwrd)\n",
        "else:\n",
        "  print('Hello, Amina! See you later.')"
      ]
    },
    {
      "cell_type": "code",
      "source": [
        "print ('cevaplarınızı yes/no olarak giriniz..  ')\n",
        "\n",
        "age= input('Are you a cigarette addict older than 75 years old? : ')\n",
        "\n",
        "chronic= input('Do you have a severe chronic disease? : ')\n",
        "\n",
        "immune= input('Is your immune system too weak? : ')\n",
        "\n",
        "risk = ((age=='yes') and (chronic=='yes') and (immune=='yes'))  or ((chronic=='yes') and (immune=='yes')) or ((age=='yes') and (chronic=='yes')) or ((age=='yes') and (immune=='yes'))\n",
        "\n",
        "if risk==True:\n",
        "  print(\"You are in risky group\")\n",
        "else:\n",
        "  print(\"You are not in risky group\")\n",
        "\n",
        "\n",
        "\n",
        "\n",
        "\n"
      ],
      "metadata": {
        "colab": {
          "base_uri": "https://localhost:8080/"
        },
        "id": "5OkBIvkPEm_x",
        "outputId": "ea0ef884-6f9e-41fd-96ed-4cce12da61bd"
      },
      "execution_count": null,
      "outputs": [
        {
          "output_type": "stream",
          "name": "stdout",
          "text": [
            "cevaplarınızı yes/no olarak giriniz..  \n",
            "Are you a cigarette addict older than 75 years old? : no\n",
            "Do you have a severe chronic disease? : yes\n",
            "Is your immune system too weak? : yes\n",
            "You are in risky group\n"
          ]
        }
      ]
    }
  ]
}