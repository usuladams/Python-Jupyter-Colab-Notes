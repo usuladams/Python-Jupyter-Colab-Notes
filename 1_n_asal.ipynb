{
  "nbformat": 4,
  "nbformat_minor": 0,
  "metadata": {
    "colab": {
      "name": "1-n-asal.ipynb",
      "provenance": [],
      "collapsed_sections": [],
      "authorship_tag": "ABX9TyPVhz60ma+/cY5G5LA/N/YP",
      "include_colab_link": true
    },
    "kernelspec": {
      "name": "python3",
      "display_name": "Python 3"
    },
    "language_info": {
      "name": "python"
    }
  },
  "cells": [
    {
      "cell_type": "markdown",
      "metadata": {
        "id": "view-in-github",
        "colab_type": "text"
      },
      "source": [
        "<a href=\"https://colab.research.google.com/github/usuladams/colab/blob/main/1_n_asal.ipynb\" target=\"_parent\"><img src=\"https://colab.research.google.com/assets/colab-badge.svg\" alt=\"Open In Colab\"/></a>"
      ]
    },
    {
      "cell_type": "code",
      "execution_count": null,
      "metadata": {
        "id": "FyIltWL_PsDc"
      },
      "outputs": [],
      "source": [
        "number = int(input('enter a number : '))\n",
        "\n",
        "prime_list=[]\n",
        "\n",
        "for i in range(1,number):\n",
        "  if i==1:\n",
        "    continue\n",
        "  elif i==2:\n",
        "    prime_list.append(i)\n",
        "    continue\n",
        "  else:\n",
        "    asal=True\n",
        "    for j in range(2, i):\n",
        "      if i%j==0:\n",
        "        asal=False\n",
        "        break\n",
        "      \n",
        "    if asal==True:\n",
        "      prime_list.append(i)\n",
        "      \n",
        "print(prime_list)"
      ]
    }
  ]
}