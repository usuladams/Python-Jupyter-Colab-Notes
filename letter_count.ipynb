{
  "nbformat": 4,
  "nbformat_minor": 0,
  "metadata": {
    "colab": {
      "name": "letter-count.ipynb",
      "provenance": [],
      "collapsed_sections": [],
      "authorship_tag": "ABX9TyMHnYIXOqi9Wa/cVF8mnXcQ",
      "include_colab_link": true
    },
    "kernelspec": {
      "name": "python3",
      "display_name": "Python 3"
    },
    "language_info": {
      "name": "python"
    }
  },
  "cells": [
    {
      "cell_type": "markdown",
      "metadata": {
        "id": "view-in-github",
        "colab_type": "text"
      },
      "source": [
        "<a href=\"https://colab.research.google.com/github/usuladams/colab/blob/main/letter_count.ipynb\" target=\"_parent\"><img src=\"https://colab.research.google.com/assets/colab-badge.svg\" alt=\"Open In Colab\"/></a>"
      ]
    },
    {
      "cell_type": "code",
      "execution_count": 2,
      "metadata": {
        "id": "TyCAOQDSeUbb",
        "outputId": "87500124-2b0e-4ccb-fafc-a2710d059255",
        "colab": {
          "base_uri": "https://localhost:8080/"
        }
      },
      "outputs": [
        {
          "output_type": "stream",
          "name": "stdout",
          "text": [
            "bir cümle giriniz: hippo runs to us!\n",
            "{'h': 1, 'i': 1, 'p': 2, 'o': 2, ' ': 3, 'r': 1, 'u': 2, 'n': 1, 's': 2, 't': 1, '!': 1}\n"
          ]
        }
      ],
      "source": [
        "sentence=input('bir cümle giriniz: ')\n",
        "\n",
        "dict_sent={}\n",
        "\n",
        "for i in sentence:\n",
        "    sayac=0\n",
        "    for j in sentence:\n",
        "        if i==j:\n",
        "            sayac+=1\n",
        "    \n",
        "    dict_sent.update({i:sayac})\n",
        "\n",
        "print(dict_sent)\n"
      ]
    }
  ]
}