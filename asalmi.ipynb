{
  "nbformat": 4,
  "nbformat_minor": 0,
  "metadata": {
    "colab": {
      "name": "asalmi.ipynb",
      "provenance": [],
      "authorship_tag": "ABX9TyNZ7THH/ScNippNaQNsKaWv",
      "include_colab_link": true
    },
    "kernelspec": {
      "name": "python3",
      "display_name": "Python 3"
    },
    "language_info": {
      "name": "python"
    }
  },
  "cells": [
    {
      "cell_type": "markdown",
      "metadata": {
        "id": "view-in-github",
        "colab_type": "text"
      },
      "source": [
        "<a href=\"https://colab.research.google.com/github/usuladams/colab/blob/main/asalmi.ipynb\" target=\"_parent\"><img src=\"https://colab.research.google.com/assets/colab-badge.svg\" alt=\"Open In Colab\"/></a>"
      ]
    },
    {
      "cell_type": "code",
      "execution_count": 4,
      "metadata": {
        "colab": {
          "base_uri": "https://localhost:8080/"
        },
        "id": "_myr-GT5OPP6",
        "outputId": "57a2c223-473d-4aa5-c6ac-1e8cdd3dc27c"
      },
      "outputs": [
        {
          "output_type": "stream",
          "name": "stdout",
          "text": [
            "enter a number : 21\n",
            "21 is not a prime number\n"
          ]
        }
      ],
      "source": [
        "is_primenumber = int(input('enter a number : '))\n",
        "asalmi=True\n",
        "i=2\n",
        "while i<is_primenumber:\n",
        "  if (is_primenumber % i == 0):\n",
        "    asalmi=False\n",
        "    break\n",
        "  i+=1\n",
        "  \n",
        "if asalmi==True:\n",
        "  print(is_primenumber,'is a prime number')\n",
        "else:\n",
        "  print(is_primenumber,'is not a prime number')\n",
        "  "
      ]
    }
  ]
}