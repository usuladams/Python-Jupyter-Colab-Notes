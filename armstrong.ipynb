{
  "nbformat": 4,
  "nbformat_minor": 0,
  "metadata": {
    "colab": {
      "name": "armstrong.ipynb",
      "provenance": [],
      "collapsed_sections": [],
      "authorship_tag": "ABX9TyNnInrxtg2w+H5lbKHzqvY6",
      "include_colab_link": true
    },
    "kernelspec": {
      "name": "python3",
      "display_name": "Python 3"
    },
    "language_info": {
      "name": "python"
    }
  },
  "cells": [
    {
      "cell_type": "markdown",
      "metadata": {
        "id": "view-in-github",
        "colab_type": "text"
      },
      "source": [
        "<a href=\"https://colab.research.google.com/github/usuladams/colab/blob/main/armstrong.ipynb\" target=\"_parent\"><img src=\"https://colab.research.google.com/assets/colab-badge.svg\" alt=\"Open In Colab\"/></a>"
      ]
    },
    {
      "cell_type": "code",
      "execution_count": 6,
      "metadata": {
        "id": "ZJMnOIGQwPmK",
        "colab": {
          "base_uri": "https://localhost:8080/"
        },
        "outputId": "159d0cec-a168-4ff3-9a66-63f1337aa43e"
      },
      "outputs": [
        {
          "output_type": "stream",
          "name": "stdout",
          "text": [
            "Please, Enter a number: 12,02\n",
            "It is an invalid entry. Don't use non-numeric, float, or negative values!\n",
            "Please, Enter a number: 36dlkgslg\n",
            "It is an invalid entry. Don't use non-numeric, float, or negative values!\n",
            "Please, Enter a number: -95\n",
            "It is an invalid entry. Don't use non-numeric, float, or negative values!\n",
            "Please, Enter a number: 254\n",
            "8\n",
            "133\n",
            "197\n",
            "254 is not an Armstrong number\n"
          ]
        }
      ],
      "source": [
        "while True:\n",
        "  is_armstrong = input('Please, Enter a number: ')\n",
        "  top=0\n",
        "\n",
        "  if is_armstrong.isdigit():\n",
        "    for i in is_armstrong:\n",
        "      top+=int(i)**(len(is_armstrong))\n",
        "      print(top)\n",
        "\n",
        "    if top==int(is_armstrong):\n",
        "        print(is_armstrong,'is an Armstrong number')\n",
        "    else:\n",
        "        print(is_armstrong,'is not an Armstrong number')\n",
        "    break      \n",
        "  else:\n",
        "     print(\"It is an invalid entry. Don't use non-numeric, float, or negative values!\")\n",
        "  "
      ]
    },
    {
      "cell_type": "code",
      "source": [
        "num1 = int(input(\"enter a number except 0 :\"))\n",
        "num=num1;\n",
        "digits = []\n",
        "while num > 0 :\n",
        "    kalan = num % 10  # 10'a bölümden kalan.. eldeki sayının birler basamağını verecektir. \n",
        "    digits.append(kalan)  # değer girildikçe listenin son elemanı olacak. sonra listeyi tersine çevirmek icap ediyor.\n",
        "    num //= 10  # burası bölümü verdiğinden her defasında sayının birinci basamağı dışında kalan basamakları verecektir.\n",
        "print(digits[::-1])  # listeyi tersine çevirerek birler basamağı en sonda olacak şekilde düzenleme yapmış olduk.\n",
        "\n",
        "top=0\n",
        "for i in digits:\n",
        "      top+=i**(len(digits))\n",
        "      print(top)\n",
        "\n",
        "if top==num1:\n",
        "        print(num1,'is an Armstrong number')\n",
        "else:\n",
        "        print(num1,'is not an Armstrong number')"
      ],
      "metadata": {
        "id": "QyZ6HBiF2rD4"
      },
      "execution_count": null,
      "outputs": []
    },
    {
      "cell_type": "code",
      "source": [
        "while True:\n",
        "  Number = input(\"Please, Enter a number: \")\n",
        "\n",
        "  if not Number.isdigit():\n",
        "    print(\"It is an invalid entry. Don't use non-numeric, float, or negative values!\")\n",
        "    \n",
        "  else: \n",
        "    print(\"It is a valid entry\")\n",
        "    break\n"
      ],
      "metadata": {
        "colab": {
          "base_uri": "https://localhost:8080/"
        },
        "id": "bDoSTTqY3y-y",
        "outputId": "d5547136-abe7-4292-8cae-b5fa39904578"
      },
      "execution_count": null,
      "outputs": [
        {
          "output_type": "stream",
          "name": "stdout",
          "text": [
            "Please, Enter a number: -45\n",
            "It is an invalid entry. Don't use non-numeric, float, or negative values!\n",
            "Please, Enter a number: 30,25\n",
            "It is an invalid entry. Don't use non-numeric, float, or negative values!\n",
            "Please, Enter a number: klfksd\n",
            "It is an invalid entry. Don't use non-numeric, float, or negative values!\n",
            "Please, Enter a number: 25\n",
            "It is a valid entry\n"
          ]
        }
      ]
    }
  ]
}